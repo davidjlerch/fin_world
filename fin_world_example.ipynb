{
 "cells": [
  {
   "cell_type": "code",
   "execution_count": 1,
   "id": "ae163ea7",
   "metadata": {},
   "outputs": [],
   "source": [
    "import src.agent as agent\n",
    "import src.stock_price_loader as spl"
   ]
  },
  {
   "cell_type": "code",
   "execution_count": 2,
   "id": "7975278a",
   "metadata": {},
   "outputs": [
    {
     "name": "stderr",
     "output_type": "stream",
     "text": [
      "Loading...: 100%|████████████████████████████████████████████████████████████████| 574/574 [00:00<00:00, 213888.64it/s]\n",
      "Loading...:   1%|▉                                                                     | 8/574 [00:01<01:40,  5.62it/s]"
     ]
    },
    {
     "name": "stdout",
     "output_type": "stream",
     "text": [
      "FB: No data found, symbol may be delisted\n",
      "BRK.B: No data found, symbol may be delisted\n"
     ]
    },
    {
     "name": "stderr",
     "output_type": "stream",
     "text": [
      "Loading...:  14%|█████████▉                                                           | 83/574 [00:22<01:46,  4.60it/s]"
     ]
    },
    {
     "name": "stdout",
     "output_type": "stream",
     "text": [
      "ANTM: No data found, symbol may be delisted\n"
     ]
    },
    {
     "name": "stderr",
     "output_type": "stream",
     "text": [
      "Loading...:  29%|███████████████████▊                                                | 167/574 [00:44<01:14,  5.48it/s]"
     ]
    },
    {
     "name": "stdout",
     "output_type": "stream",
     "text": [
      "INFO: No data found, symbol may be delisted\n",
      "XLNX: No data found, symbol may be delisted\n"
     ]
    },
    {
     "name": "stderr",
     "output_type": "stream",
     "text": [
      "Loading...:  47%|████████████████████████████████▏                                   | 272/574 [01:11<01:04,  4.67it/s]"
     ]
    },
    {
     "name": "stdout",
     "output_type": "stream",
     "text": [
      "BF.B: No data found for this date range, symbol may be delisted\n"
     ]
    },
    {
     "name": "stderr",
     "output_type": "stream",
     "text": [
      "Loading...:  49%|█████████████████████████████████▎                                  | 281/574 [01:13<01:06,  4.37it/s]"
     ]
    },
    {
     "name": "stdout",
     "output_type": "stream",
     "text": [
      "BLL: No data found, symbol may be delisted\n"
     ]
    },
    {
     "name": "stderr",
     "output_type": "stream",
     "text": [
      "Loading...:  51%|██████████████████████████████████▋                                 | 293/574 [01:16<00:55,  5.09it/s]"
     ]
    },
    {
     "name": "stdout",
     "output_type": "stream",
     "text": [
      "CERN: No data found, symbol may be delisted\n"
     ]
    },
    {
     "name": "stderr",
     "output_type": "stream",
     "text": [
      "Loading...:  57%|███████████████████████████████████████                             | 330/574 [01:25<00:50,  4.82it/s]"
     ]
    },
    {
     "name": "stdout",
     "output_type": "stream",
     "text": [
      "VIAC: No data found, symbol may be delisted\n"
     ]
    },
    {
     "name": "stderr",
     "output_type": "stream",
     "text": [
      "Loading...:  75%|██████████████████████████████████████████████████▉                 | 430/574 [01:51<00:26,  5.42it/s]"
     ]
    },
    {
     "name": "stdout",
     "output_type": "stream",
     "text": [
      "DISCA: No data found, symbol may be delisted\n",
      "DISCK: No data found, symbol may be delisted\n"
     ]
    },
    {
     "name": "stderr",
     "output_type": "stream",
     "text": [
      "Loading...:  81%|███████████████████████████████████████████████████████             | 465/574 [02:00<00:26,  4.07it/s]"
     ]
    },
    {
     "name": "stdout",
     "output_type": "stream",
     "text": [
      "CTXS: No data found, symbol may be delisted\n"
     ]
    },
    {
     "name": "stderr",
     "output_type": "stream",
     "text": [
      "Loading...:  85%|█████████████████████████████████████████████████████████▉          | 489/574 [02:05<00:16,  5.23it/s]"
     ]
    },
    {
     "name": "stdout",
     "output_type": "stream",
     "text": [
      "PBCT: No data found, symbol may be delisted\n"
     ]
    },
    {
     "name": "stderr",
     "output_type": "stream",
     "text": [
      "Loading...:  87%|███████████████████████████████████████████████████████████▎        | 501/574 [02:08<00:14,  5.04it/s]"
     ]
    },
    {
     "name": "stdout",
     "output_type": "stream",
     "text": [
      "NLSN: No data found, symbol may be delisted\n"
     ]
    },
    {
     "name": "stderr",
     "output_type": "stream",
     "text": [
      "Loading...:  89%|████████████████████████████████████████████████████████████▋       | 512/574 [02:11<00:14,  4.16it/s]"
     ]
    },
    {
     "name": "stdout",
     "output_type": "stream",
     "text": [
      "DAI.DE: No data found, symbol may be delisted\n"
     ]
    },
    {
     "name": "stderr",
     "output_type": "stream",
     "text": [
      "Loading...: 100%|████████████████████████████████████████████████████████████████████| 574/574 [02:26<00:00,  3.92it/s]\n"
     ]
    }
   ],
   "source": [
    "# create a financial world\n",
    "fin_world = spl.FinWorld(mode=None, period='5y', interval='1d', indices=['SPX', 'DAX', 'TDXP'])"
   ]
  },
  {
   "cell_type": "code",
   "execution_count": 3,
   "id": "f57a04ce",
   "metadata": {},
   "outputs": [],
   "source": [
    "# create an simple agent\n",
    "my_agent = agent.SimpleAgent(trade_freq=20, expenses=5)"
   ]
  },
  {
   "cell_type": "code",
   "execution_count": 4,
   "id": "ccedab5a",
   "metadata": {},
   "outputs": [],
   "source": [
    "# get all stock symbols from the financial world\n",
    "all_stocks = fin_world.get_stocks()\n",
    "\n",
    "# set all stock symbols for the agent\n",
    "my_agent.set_stocks(stocks=all_stocks)"
   ]
  },
  {
   "cell_type": "code",
   "execution_count": 5,
   "id": "d2cafab4",
   "metadata": {},
   "outputs": [],
   "source": [
    "# get the maximum time of a traded stocks\n",
    "data_len_max = 0\n",
    "for stck in all_stocks:\n",
    "    data = fin_world.tickers.tickers[stck].history_data\n",
    "    if len(data.index) > data_len_max:\n",
    "        data_len_max = len(data.index)"
   ]
  },
  {
   "cell_type": "code",
   "execution_count": null,
   "id": "fb3f0f07",
   "metadata": {},
   "outputs": [
    {
     "name": "stdout",
     "output_type": "stream",
     "text": [
      "2018-10-19 9950.0 235.0972677348958 {'NEM.DE': 35, 'VAR1.DE': 46, 'AFX.DE': 16, 'MTX.DE': 6, 'EVT.DE': 61, 'EUZ.DE': 94, 'BC8.DE': 34, 'SRT3.DE': 6, 'SANT.DE': 32, 'SAP.DE': 6}\n",
      "2019-03-15 10748.063188793109 271.1895215142822 {'EUZ.DE': 91, 'LIN.DE': 10, 'ETSY': 14, 'ENPH': 120, 'VAR1.DE': 27, 'KEYS': 11, 'PAYC': 5, 'MTCH': 16, 'NOW': 3, 'CMG': 1}\n",
      "2019-08-08 15470.439475390769 218.65068475079988 {'ENPH': 71, 'VAR1.DE': 27, 'PAYC': 6, 'EUZ.DE': 45, 'MKTX': 4, 'SEDG': 18, 'COP.DE': 27, 'CPRT': 35, 'CDNS': 20, 'AMD': 42}\n",
      "2020-01-03 18049.03932001522 203.539751434439 {'VAR1.DE': 20, 'EUZ.DE': 43, 'HFG.DE': 121, 'GNRC': 16, 'LRCX': 5, 'S92.DE': 42, 'TSLA': 53, 'DXCM': 36, 'QRVO': 15, 'TGT': 13}\n"
     ]
    }
   ],
   "source": [
    "# trade every day\n",
    "it = 0\n",
    "for day in data.index:\n",
    "    day = str(day)\n",
    "    day = day.split(' ')[0]\n",
    "    my_agent.trade(fin_world, day, it)\n",
    "    it += 1\n",
    "print(day, my_agent.balance, my_agent.free_cash, my_agent.asset)"
   ]
  },
  {
   "cell_type": "code",
   "execution_count": null,
   "id": "950b2a3f",
   "metadata": {},
   "outputs": [],
   "source": []
  }
 ],
 "metadata": {
  "kernelspec": {
   "display_name": "Python 3 (ipykernel)",
   "language": "python",
   "name": "python3"
  },
  "language_info": {
   "codemirror_mode": {
    "name": "ipython",
    "version": 3
   },
   "file_extension": ".py",
   "mimetype": "text/x-python",
   "name": "python",
   "nbconvert_exporter": "python",
   "pygments_lexer": "ipython3",
   "version": "3.8.10"
  }
 },
 "nbformat": 4,
 "nbformat_minor": 5
}
