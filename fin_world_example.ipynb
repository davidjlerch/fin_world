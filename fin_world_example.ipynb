{
 "cells": [
  {
   "cell_type": "code",
   "execution_count": 1,
   "id": "ae163ea7",
   "metadata": {},
   "outputs": [],
   "source": [
    "import src.agent as agent\n",
    "import src.stock_price_loader as spl"
   ]
  },
  {
   "cell_type": "code",
   "execution_count": 2,
   "id": "7975278a",
   "metadata": {},
   "outputs": [
    {
     "name": "stderr",
     "output_type": "stream",
     "text": [
      "Loading...: 100%|██████████| 574/574 [00:00<00:00, 595775.92it/s]\n",
      "Loading...:   1%|          | 7/574 [00:02<02:37,  3.60it/s]"
     ]
    },
    {
     "name": "stdout",
     "output_type": "stream",
     "text": [
      "FB: No data found, symbol may be delisted\n"
     ]
    },
    {
     "name": "stderr",
     "output_type": "stream",
     "text": [
      "\r",
      "Loading...:   1%|▏         | 8/574 [00:02<02:44,  3.45it/s]"
     ]
    },
    {
     "name": "stdout",
     "output_type": "stream",
     "text": [
      "BRK.B: No data found, symbol may be delisted\n"
     ]
    },
    {
     "name": "stderr",
     "output_type": "stream",
     "text": [
      "Loading...:  14%|█▍        | 83/574 [00:42<02:29,  3.28it/s]"
     ]
    },
    {
     "name": "stdout",
     "output_type": "stream",
     "text": [
      "ANTM: No data found, symbol may be delisted\n"
     ]
    },
    {
     "name": "stderr",
     "output_type": "stream",
     "text": [
      "Loading...:  29%|██▉       | 167/574 [01:10<01:50,  3.68it/s]"
     ]
    },
    {
     "name": "stdout",
     "output_type": "stream",
     "text": [
      "INFO: No data found, symbol may be delisted\n",
      "XLNX: No data found, symbol may be delisted\n"
     ]
    },
    {
     "name": "stderr",
     "output_type": "stream",
     "text": [
      "Loading...:  47%|████▋     | 272/574 [01:46<01:33,  3.23it/s]"
     ]
    },
    {
     "name": "stdout",
     "output_type": "stream",
     "text": [
      "BF.B: No data found for this date range, symbol may be delisted\n"
     ]
    },
    {
     "name": "stderr",
     "output_type": "stream",
     "text": [
      "Loading...:  49%|████▉     | 281/574 [01:49<01:32,  3.15it/s]"
     ]
    },
    {
     "name": "stdout",
     "output_type": "stream",
     "text": [
      "BLL: No data found, symbol may be delisted\n"
     ]
    },
    {
     "name": "stderr",
     "output_type": "stream",
     "text": [
      "Loading...:  51%|█████     | 293/574 [01:53<01:18,  3.58it/s]"
     ]
    },
    {
     "name": "stdout",
     "output_type": "stream",
     "text": [
      "CERN: No data found, symbol may be delisted\n"
     ]
    },
    {
     "name": "stderr",
     "output_type": "stream",
     "text": [
      "Loading...:  57%|█████▋    | 330/574 [02:04<01:02,  3.92it/s]"
     ]
    },
    {
     "name": "stdout",
     "output_type": "stream",
     "text": [
      "VIAC: No data found, symbol may be delisted\n"
     ]
    },
    {
     "name": "stderr",
     "output_type": "stream",
     "text": [
      "Loading...:  75%|███████▍  | 430/574 [02:37<00:39,  3.67it/s]"
     ]
    },
    {
     "name": "stdout",
     "output_type": "stream",
     "text": [
      "DISCA: No data found, symbol may be delisted\n",
      "DISCK: No data found, symbol may be delisted\n"
     ]
    },
    {
     "name": "stderr",
     "output_type": "stream",
     "text": [
      "Loading...:  81%|████████  | 466/574 [02:49<00:31,  3.45it/s]"
     ]
    },
    {
     "name": "stdout",
     "output_type": "stream",
     "text": [
      "CTXS: No data found, symbol may be delisted\n"
     ]
    },
    {
     "name": "stderr",
     "output_type": "stream",
     "text": [
      "Loading...:  85%|████████▌ | 489/574 [02:57<00:24,  3.54it/s]"
     ]
    },
    {
     "name": "stdout",
     "output_type": "stream",
     "text": [
      "PBCT: No data found, symbol may be delisted\n"
     ]
    },
    {
     "name": "stderr",
     "output_type": "stream",
     "text": [
      "Loading...:  87%|████████▋ | 501/574 [03:01<00:19,  3.74it/s]"
     ]
    },
    {
     "name": "stdout",
     "output_type": "stream",
     "text": [
      "NLSN: No data found, symbol may be delisted\n"
     ]
    },
    {
     "name": "stderr",
     "output_type": "stream",
     "text": [
      "Loading...:  89%|████████▉ | 512/574 [03:05<00:18,  3.40it/s]"
     ]
    },
    {
     "name": "stdout",
     "output_type": "stream",
     "text": [
      "DAI.DE: No data found, symbol may be delisted\n"
     ]
    },
    {
     "name": "stderr",
     "output_type": "stream",
     "text": [
      "Loading...: 100%|██████████| 574/574 [03:24<00:00,  2.81it/s]\n"
     ]
    }
   ],
   "source": [
    "# create a financial world\n",
    "fin_world = spl.FinWorld(mode=None, period='5y', interval='1d', indices=['SPX', 'DAX', 'TDXP'])"
   ]
  },
  {
   "cell_type": "code",
   "execution_count": 3,
   "id": "f57a04ce",
   "metadata": {},
   "outputs": [],
   "source": [
    "agent1 = agent.SimpleAgent('Simple30', trade_freq=15, expenses=3)\n",
    "agent2 = agent.MATrendAgent('Trend200', trade_freq=15, expenses=3, ma=200)\n",
    "agent4 = agent.MmtAgent('Momentum200', trade_freq=15, expenses=3, momentum=200)\n",
    "agents = [agent1, agent2, agent4]"
   ]
  },
  {
   "cell_type": "code",
   "execution_count": 4,
   "id": "ccedab5a",
   "metadata": {},
   "outputs": [],
   "source": [
    "# get all stock symbols from the financial world\n",
    "all_stocks = fin_world.get_stocks()\n",
    "\n",
    "# set all stock symbols for the agent\n",
    "for agent in agents:\n",
    "    agent.set_stocks(stocks=all_stocks)"
   ]
  },
  {
   "cell_type": "code",
   "execution_count": 5,
   "id": "d2cafab4",
   "metadata": {},
   "outputs": [],
   "source": [
    "# get the maximum time of a traded stocks\n",
    "data_len_max = [0]\n",
    "for stck in all_stocks:\n",
    "    data = fin_world.tickers.tickers[stck].history_data\n",
    "    if len(data.index) > len(data_len_max):\n",
    "        data_len_max = data.index"
   ]
  },
  {
   "cell_type": "code",
   "execution_count": 6,
   "id": "fb3f0f07",
   "metadata": {},
   "outputs": [
    {
     "name": "stdout",
     "output_type": "stream",
     "text": [
      "Simple30 2018-11-06 9952 17.463018180074798 {'AMD': 60, 'DXCM': 33, 'FTNT': 68, 'ETSY': 24, 'LLY': 10, 'AAP': 6, 'MTCH': 20, 'HCA': 7, 'VAR1.DE': 34, 'MKC': 13}\n",
      "Trend200 2018-11-06 9952 2.772714884399905 {'S92.DE': 54, 'IPGP': 8, 'WDC': 23, 'XRAY': 30, 'MHK': 7, '1U1.DE': 25, 'CON.DE': 7, 'BBWI': 39, 'AIXA.DE': 91, 'IVZ': 54}\n",
      "Momentum200 2018-11-06 9943 4.661018583211671 {'ENPH': 272, 'DXCM': 37, 'ETSY': 27, 'LIN.DE': 8, 'ABMD': 2, 'UAA': 38, 'UA': 42, 'FTNT': 57, 'MTCH': 17, 'AMD': 41}\n",
      "Simple30 2018-11-27 9725.301421032782 9.823142071720802 {'AMD': 48, 'DXCM': 34, 'ETSY': 19, 'LLY': 9, 'AAP': 5, 'MKC': 15, 'LIN.DE': 9, 'EUZ.DE': 77, 'TSCO': 11, 'AES': 69}\n",
      "Trend200 2018-11-27 9641.644617740132 0.32883856494861163 {'S92.DE': 62, 'IPGP': 6, 'WDC': 22, 'XRAY': 25, 'MHK': 8, '1U1.DE': 21, 'CON.DE': 8, 'AIXA.DE': 105, 'AMAT': 28, 'WYNN': 9}\n",
      "Momentum200 2018-11-27 9351.879468007806 4.370497525659346 {'ENPH': 201, 'DXCM': 37, 'ETSY': 27, 'LIN.DE': 7, 'UAA': 40, 'UA': 41, 'AMD': 43, 'CMG': 2, 'EUZ.DE': 63, 'AAP': 4}\n",
      "Simple30 2018-12-18 9637.654443915397 1.0609147173957858 {'DXCM': 33, 'ETSY': 18, 'LLY': 8, 'AAP': 7, 'MKC': 13, 'LIN.DE': 10, 'EUZ.DE': 73, 'AES': 68, 'CHD': 14, 'WBA': 13}\n",
      "Trend200 2018-12-18 8668.246587910395 8.605031603770982 {'S92.DE': 63, 'IPGP': 8, 'WDC': 26, 'MHK': 7, 'CON.DE': 9, 'AIXA.DE': 107, 'AMAT': 25, 'WYNN': 7, 'WAF.DE': 15, 'FCX': 78}\n",
      "Momentum200 2018-12-18 9113.655744190168 1.9109494708026205 {'ENPH': 164, 'DXCM': 39, 'ETSY': 21, 'LIN.DE': 8, 'AMD': 45, 'EUZ.DE': 69, 'NRG': 23, 'AFX.DE': 11, 'LLY': 7, 'MRK': 12}\n",
      "Simple30 2019-01-15 9832.80118586808 5.0976284116408905 {'ETSY': 19, 'LLY': 9, 'MKC': 15, 'LIN.DE': 9, 'EUZ.DE': 72, 'CHD': 15, 'AZO': 1, 'MRK': 16, 'WELL': 15, 'NRG': 26}\n",
      "Trend200 2019-01-15 9127.469963683972 6.00403633131112 {'S92.DE': 62, 'IPGP': 7, 'WDC': 27, 'MHK': 8, 'CON.DE': 7, 'AIXA.DE': 106, 'AMAT': 27, 'WYNN': 9, 'WAF.DE': 14, 'ZAL.DE': 31}\n",
      "Momentum200 2019-01-15 9514.226378315798 2.610366366919628 {'DXCM': 34, 'ETSY': 20, 'LIN.DE': 9, 'AMD': 52, 'EUZ.DE': 74, 'AFX.DE': 12, 'LLY': 8, 'CMG': 1, 'VAR1.DE': 33, 'AES': 61}\n",
      "Simple30 2019-02-05 10339.998486768969 22.43733714934308 {'ETSY': 18, 'LLY': 8, 'LIN.DE': 10, 'EUZ.DE': 61, 'CHD': 17, 'WELL': 14, 'NRG': 27, 'DXCM': 27, 'O': 17, 'PEAK': 36}\n",
      "Trend200 2019-02-05 10061.462642388786 1.232452861349202 {'S92.DE': 57, 'IPGP': 8, 'WDC': 23, 'MHK': 7, 'CON.DE': 9, 'WYNN': 8, 'WAF.DE': 15, 'ZAL.DE': 35, '1COV.DE': 25, 'HAL': 31}\n",
      "Momentum200 2019-02-05 10603.738955823148 6.845460198493612 {'DXCM': 32, 'ETSY': 18, 'LIN.DE': 8, 'AMD': 57, 'EUZ.DE': 73, 'CMG': 2, 'VAR1.DE': 28, 'AES': 58, 'ENPH': 139, 'ORLY': 2}\n",
      "Simple30 2019-02-26 10510.100850833735 7.218027449514942 {'ETSY': 16, 'LIN.DE': 9, 'EUZ.DE': 72, 'DXCM': 29, 'ENPH': 131, 'VAR1.DE': 30, 'PAYC': 6, 'KEYS': 12, 'MTCH': 18, 'CMG': 1}\n",
      "Trend200 2019-02-26 10561.178873334618 5.028818619976093 {'S92.DE': 53, 'IPGP': 6, 'WDC': 22, 'MHK': 8, 'CON.DE': 8, 'WAF.DE': 16, 'ZAL.DE': 41, '1COV.DE': 27, 'NVDA': 25, 'HFG.DE': 112}\n",
      "Momentum200 2019-02-26 11137.767565880931 5.053720880286875 {'DXCM': 29, 'ETSY': 20, 'LIN.DE': 9, 'AMD': 54, 'EUZ.DE': 72, 'ENPH': 130, 'PAYC': 5, 'LLY': 8, 'MTCH': 18, 'KEYS': 11}\n",
      "Simple30 2019-03-19 10867.44227751191 8.131449807589775 {'ETSY': 15, 'LIN.DE': 7, 'EUZ.DE': 66, 'ENPH': 129, 'VAR1.DE': 29, 'PAYC': 5, 'KEYS': 13, 'CMG': 2, 'CDAY': 20, 'NOW': 4}\n",
      "Trend200 2019-03-19 10623.38924719964 9.501270205938603 {'S92.DE': 48, 'IPGP': 7, 'WDC': 24, 'MHK': 9, 'WAF.DE': 17, 'ZAL.DE': 29, '1COV.DE': 28, 'NVDA': 23, 'HFG.DE': 118, 'ATVI': 23}\n",
      "Momentum200 2019-03-19 11320.115689920181 16.78539251281679 {'DXCM': 29, 'ETSY': 22, 'LIN.DE': 11, 'AMD': 47, 'EUZ.DE': 74, 'PAYC': 7, 'LLY': 10, 'KEYS': 12, 'VAR1.DE': 30, 'AZO': 0}\n",
      "Simple30 2019-04-09 11221.254634889732 13.228952069403675 {'ETSY': 19, 'LIN.DE': 10, 'EUZ.DE': 61, 'ENPH': 122, 'VAR1.DE': 28, 'PAYC': 7, 'KEYS': 13, 'NDX1.DE': 78, 'CDNS': 19}\n",
      "Trend200 2019-04-09 10947.228899762713 4.198389013538069 {'S92.DE': 55, 'WDC': 21, 'MHK': 8, 'WAF.DE': 15, 'ZAL.DE': 30, '1COV.DE': 27, 'NVDA': 24, 'HFG.DE': 139, 'ATVI': 25, 'DVN': 42}\n",
      "Momentum200 2019-04-09 11427.183742662579 9.601253782342837 {'ETSY': 16, 'LIN.DE': 10, 'AMD': 40, 'EUZ.DE': 77, 'PAYC': 5, 'VAR1.DE': 30, 'ENPH': 113, 'EVT.DE': 44, 'NDX1.DE': 71, 'CMG': 1}\n",
      "Simple30 2019-05-03 11482.992567376543 11.760094505979282 {'ETSY': 17, 'LIN.DE': 8, 'ENPH': 102, 'VAR1.DE': 32, 'PAYC': 6, 'KEYS': 13, 'NDX1.DE': 90, 'CDNS': 16, 'CMG': 1, 'CDAY': 23}\n",
      "Trend200 2019-05-03 11002.365779439591 2.7586556721287607 {'MHK': 7, 'WAF.DE': 17, '1COV.DE': 30, 'NVDA': 25, 'HFG.DE': 122, 'ATVI': 24, 'KHC': 42, 'LUMN': 131, 'PENN': 55, 'WAB': 14}\n",
      "Momentum200 2019-05-03 11398.428579838917 9.497153078542041 {'LIN.DE': 9, 'AMD': 39, 'EUZ.DE': 74, 'PAYC': 7, 'VAR1.DE': 28, 'ENPH': 86, 'MTCH': 17, 'SBUX': 14, 'QCOM': 12, 'CDNS': 14}\n",
      "Simple30 2019-05-24 11479.612121773029 5.130660048801175 {'LIN.DE': 7, 'ENPH': 102, 'VAR1.DE': 25, 'PAYC': 5, 'NDX1.DE': 89, 'CDNS': 18, 'CMG': 2, 'EUZ.DE': 49, 'MSCI': 5, 'MKTX': 3}\n",
      "Trend200 2019-05-24 10040.476074760412 8.718254335918726 {'1COV.DE': 29, 'NVDA': 28, 'ATVI': 26, 'KHC': 39, 'LUMN': 147, 'PENN': 46, 'WAB': 16, 'TPR': 35, 'SLB': 28, 'VTRS': 53}\n",
      "Momentum200 2019-05-24 11899.669469374221 10.324540381638016 {'LIN.DE': 8, 'EUZ.DE': 59, 'PAYC': 5, 'VAR1.DE': 27, 'ENPH': 109, 'MTCH': 19, 'SBUX': 13, 'ETSY': 16, 'CDAY': 20, 'MKTX': 4}\n",
      "Simple30 2019-06-17 12257.346283050554 1.1196560754192717 {'ENPH': 101, 'VAR1.DE': 26, 'PAYC': 6, 'CDNS': 16, 'EUZ.DE': 55, 'MKTX': 3, 'MTCH': 17, 'XRAY': 21, 'IR': 35, 'SEDG': 20}\n",
      "Trend200 2019-06-17 10018.630295958692 5.745615191365523 {'NVDA': 27, 'ATVI': 23, 'KHC': 42, 'LUMN': 128, 'PENN': 50, 'WAB': 14, 'TPR': 37, 'SLB': 30, 'VTRS': 63, 'DXC': 19}\n",
      "Momentum200 2019-06-17 12689.344345453193 0.7358810658033406 {'LIN.DE': 11, 'EUZ.DE': 63, 'PAYC': 4, 'VAR1.DE': 28, 'ENPH': 136, 'MTCH': 13, 'SBUX': 14, 'MKTX': 3, 'AMD': 33, 'NOW': 3}\n",
      "Simple30 2019-07-08 13061.037474223973 1.3187502491677776 {'ENPH': 96, 'VAR1.DE': 25, 'PAYC': 5, 'EUZ.DE': 53, 'MKTX': 4, 'MTCH': 16, 'XRAY': 22, 'SEDG': 21, 'COP.DE': 18, 'MSCI': 5}\n",
      "Trend200 2019-07-08 10587.200145518795 10.163810549584223 {'NVDA': 27, 'ATVI': 22, 'KHC': 44, 'LUMN': 131, 'TPR': 38, 'VTRS': 60, 'DXC': 18, 'HAL': 48, 'CVS': 21, 'BIIB': 4}\n",
      "Momentum200 2019-07-08 13379.079886894695 12.963230391866595 {'LIN.DE': 9, 'EUZ.DE': 61, 'PAYC': 5, 'VAR1.DE': 25, 'ENPH': 145, 'SBUX': 12, 'MKTX': 4, 'NDX1.DE': 72, 'CDNS': 13, 'CMG': 1}\n",
      "Simple30 2019-07-29 13790.98707492795 16.824480666243012 {'ENPH': 92, 'VAR1.DE': 22, 'PAYC': 6, 'EUZ.DE': 46, 'MKTX': 3, 'MTCH': 17, 'SEDG': 22, 'COP.DE': 20, 'CDNS': 17, 'CPRT': 32}\n",
      "Trend200 2019-07-29 10810.047011222423 5.72562059930746 {'KHC': 43, 'LUMN': 130, 'VTRS': 58, 'HAL': 50, 'BIIB': 5, 'WBA': 23, '1U1.DE': 42, 'MOS': 44, 'TSLA': 69, 'ABMD': 3}\n",
      "Momentum200 2019-07-29 14126.087824978647 2.238688818705654 {'LIN.DE': 11, 'EUZ.DE': 61, 'VAR1.DE': 24, 'ENPH': 129, 'SBUX': 13, 'MKTX': 3, 'CDNS': 15, 'CMG': 1, 'SEDG': 17, 'COK.DE': 20}\n",
      "Simple30 2019-08-19 15300.70567028243 15.98960661313373 {'ENPH': 68, 'VAR1.DE': 25, 'PAYC': 5, 'EUZ.DE': 44, 'MKTX': 5, 'MTCH': 16, 'SEDG': 17, 'CTLT': 25, 'AMD': 42, 'SBUX': 14}\n",
      "Trend200 2019-08-19 9549.302906329678 3.157163918520842 {'KHC': 48, 'LUMN': 116, 'VTRS': 58, 'HAL': 52, 'BIIB': 3, 'WBA': 22, '1U1.DE': 41, 'MOS': 50, 'TSLA': 64, 'ABMD': 5}\n",
      "Momentum200 2019-08-19 16183.977569746561 26.74423831752364 {'EUZ.DE': 58, 'VAR1.DE': 25, 'ENPH': 138, 'MKTX': 4, 'CMG': 1, 'SEDG': 15, 'PAYC': 5, 'MTCH': 13, 'TER': 21, 'TDG': 2}\n",
      "Simple30 2019-09-09 15517.64870522433 11.515978859800072 {'ENPH': 93, 'VAR1.DE': 20, 'PAYC': 6, 'EUZ.DE': 38, 'MKTX': 3, 'MTCH': 18, 'SEDG': 22, 'HSY': 9, 'SBAC': 5, 'TER': 23}\n",
      "Trend200 2019-09-09 9973.973540393657 1.239726040519173 {'KHC': 44, 'VTRS': 54, 'HAL': 54, 'BIIB': 5, 'WBA': 20, '1U1.DE': 34, 'MOS': 52, 'TSLA': 65, 'ABMD': 5, 'GPS': 63}\n",
      "Momentum200 2019-09-09 16212.986855129358 4.659089476266502 {'EUZ.DE': 53, 'VAR1.DE': 26, 'ENPH': 120, 'MKTX': 3, 'CMG': 1, 'SEDG': 18, 'PAYC': 6, 'MTCH': 17, 'AFX.DE': 11, 'ZAL.DE': 24}\n",
      "Simple30 2019-09-30 14167.034385273553 4.319232858741628 {'ENPH': 82, 'VAR1.DE': 19, 'EUZ.DE': 44, 'MKTX': 4, 'SEDG': 18, 'TER': 21, 'HFG.DE': 98, 'TGT': 13, 'GNRC': 17, 'KLAC': 8}\n"
     ]
    },
    {
     "name": "stdout",
     "output_type": "stream",
     "text": [
      "Trend200 2019-09-30 9882.03291988793 2.064272771421596 {'KHC': 43, 'VTRS': 58, 'HAL': 57, 'BIIB': 4, '1U1.DE': 37, 'MOS': 51, 'TSLA': 60, 'ABMD': 5, 'GPS': 64, 'DXC': 35}\n",
      "Momentum200 2019-09-30 14532.85131621826 13.627842342759436 {'EUZ.DE': 46, 'VAR1.DE': 26, 'ENPH': 118, 'CMG': 1, 'SEDG': 17, 'MTCH': 17, 'HFG.DE': 91, 'KLAC': 8, 'TER': 19, 'RWE.DE': 42}\n",
      "Simple30 2019-10-22 15163.848928597954 2.4947675023965203 {'ENPH': 62, 'VAR1.DE': 22, 'EUZ.DE': 46, 'SEDG': 19, 'TER': 24, 'HFG.DE': 93, 'TGT': 13, 'GNRC': 15, 'KLAC': 9, 'WDC': 24}\n",
      "Trend200 2019-10-22 10258.272213670542 1.305754368138608 {'KHC': 42, 'VTRS': 61, 'HAL': 55, 'MOS': 55, 'ABMD': 6, 'GPS': 65, 'DXC': 42, 'OXY': 27, 'REGN': 3, 'APA': 44}\n",
      "Momentum200 2019-10-22 15279.91380094113 1.451218331283826 {'EUZ.DE': 39, 'VAR1.DE': 22, 'ENPH': 130, 'CMG': 2, 'SEDG': 17, 'HFG.DE': 88, 'KLAC': 6, 'TER': 19, 'LRCX': 4, 'CPRT': 25}\n",
      "Simple30 2019-11-12 15196.09714446567 6.353254805486259 {'ENPH': 77, 'VAR1.DE': 18, 'EUZ.DE': 41, 'SEDG': 20, 'TER': 22, 'HFG.DE': 103, 'TGT': 14, 'GNRC': 16, 'KLAC': 8, 'LRCX': 5}\n",
      "Trend200 2019-11-12 11002.69189213162 3.928936923330781 {'VTRS': 68, 'HAL': 54, 'MOS': 53, 'ABMD': 5, 'GPS': 70, 'DXC': 40, 'OXY': 30, 'APA': 47, 'CTRA': 71, 'BBWI': 78}\n",
      "Momentum200 2019-11-12 14737.89542942362 10.740532633000228 {'VAR1.DE': 24, 'ENPH': 105, 'SEDG': 18, 'HFG.DE': 83, 'KLAC': 8, 'TER': 21, 'LRCX': 4, 'GNRC': 13, 'QCOM': 15, 'AMD': 34}\n",
      "Simple30 2019-12-03 16014.503315756076 15.4980272239994 {'VAR1.DE': 16, 'EUZ.DE': 35, 'SEDG': 18, 'HFG.DE': 102, 'GNRC': 17, 'KLAC': 10, 'LRCX': 7, 'QRVO': 14, 'TSLA': 68, 'S92.DE': 49}\n",
      "Trend200 2019-12-03 10499.813576299683 1.6009414516905736 {'VTRS': 59, 'HAL': 52, 'MOS': 57, 'ABMD': 6, 'GPS': 71, 'DXC': 34, 'OXY': 28, 'APA': 56, 'CTRA': 76, 'BBWI': 72}\n",
      "Momentum200 2019-12-03 15115.036218030502 9.756876455027921 {'VAR1.DE': 20, 'ENPH': 94, 'SEDG': 16, 'HFG.DE': 85, 'GNRC': 14, 'EUZ.DE': 34, 'TGT': 12, 'MKTX': 3, 'HWM': 41, 'CPRT': 27}\n",
      "Simple30 2019-12-27 17654.7270487606 3.2581588770718497 {'VAR1.DE': 18, 'EUZ.DE': 43, 'HFG.DE': 108, 'GNRC': 16, 'QRVO': 15, 'TSLA': 59, 'S92.DE': 48, 'DXCM': 33, 'TGT': 13, 'AMD': 34}\n",
      "Trend200 2019-12-27 11538.486944499564 7.811123728365914 {'ABMD': 7, 'GPS': 68, 'DXC': 36, 'OXY': 30, 'APA': 45, 'CTRA': 80, 'BBWI': 79, 'ETSY': 25, 'ULTA': 4, 'ANET': 22}\n",
      "Momentum200 2019-12-27 15894.246440138233 6.037610384118025 {'VAR1.DE': 20, 'ENPH': 84, 'SEDG': 18, 'HFG.DE': 76, 'GNRC': 13, 'EUZ.DE': 36, 'AMD': 32, 'DHER.DE': 20, 'LRCX': 4, 'TER': 18}\n",
      "Simple30 2020-01-21 18233.16948887465 19.435078177307048 {'VAR1.DE': 22, 'EUZ.DE': 41, 'HFG.DE': 88, 'QRVO': 16, 'TSLA': 55, 'S92.DE': 45, 'DXCM': 31, 'AMD': 35, 'DHER.DE': 26, 'SWKS': 14}\n",
      "Trend200 2020-01-21 12303.082866541381 1.2788828626196107 {'ABMD': 6, 'GPS': 71, 'DXC': 41, 'OXY': 27, 'CTRA': 93, 'BBWI': 76, 'ETSY': 23, 'ULTA': 5, 'ANET': 21, 'DVN': 56}\n",
      "Momentum200 2020-01-21 16295.151873913563 5.731436802343708 {'VAR1.DE': 16, 'ENPH': 77, 'SEDG': 19, 'HFG.DE': 86, 'GNRC': 14, 'EUZ.DE': 39, 'AMD': 26, 'DHER.DE': 19, 'S92.DE': 36, 'TSLA': 38}\n",
      "Simple30 2020-02-11 18530.559743882288 1.2635221947422224 {'HFG.DE': 89, 'QRVO': 17, 'TSLA': 46, 'S92.DE': 51, 'DXCM': 28, 'AMD': 33, 'DHER.DE': 27, 'SWKS': 15, 'ENPH': 46, 'SEDG': 16}\n",
      "Trend200 2020-02-11 12044.242848294562 8.694864253592886 {'ABMD': 8, 'DXC': 45, 'OXY': 29, 'CTRA': 102, 'ETSY': 25, 'ULTA': 3, 'ANET': 19, 'BEN': 53, 'FANG': 18, '1U1.DE': 54}\n",
      "Momentum200 2020-02-11 17110.957567930418 10.297064887885313 {'VAR1.DE': 19, 'ENPH': 74, 'SEDG': 16, 'HFG.DE': 80, 'GNRC': 13, 'EUZ.DE': 42, 'AMD': 25, 'DHER.DE': 18, 'TSLA': 40, 'DXCM': 25}\n",
      "Simple30 2020-03-03 19406.022751618446 4.141422588413974 {'HFG.DE': 86, 'TSLA': 51, 'DXCM': 25, 'AMD': 37, 'DHER.DE': 28, 'ENPH': 39, 'SEDG': 13, 'PENN': 65, 'NVDA': 25, 'NLOK': 91}\n",
      "Trend200 2020-03-03 10687.841187201631 9.246384858326524 {'ABMD': 7, 'DXC': 51, 'CTRA': 91, 'ETSY': 17, 'ULTA': 4, 'BEN': 51, 'FANG': 20, '1U1.DE': 53, 'UAA': 75, 'UA': 83}\n",
      "Momentum200 2020-03-03 18604.09650387673 9.327432095604763 {'ENPH': 58, 'SEDG': 15, 'HFG.DE': 86, 'GNRC': 14, 'AMD': 29, 'DHER.DE': 19, 'TSLA': 50, 'DXCM': 26, 'NLOK': 77, 'NVDA': 18}\n",
      "Simple30 2020-03-24 14742.830929941527 16.478818300365674 {'HFG.DE': 57, 'TSLA': 62, 'DXCM': 28, 'DHER.DE': 21, 'ENPH': 55, 'SEDG': 19, 'NVDA': 23, 'NLOK': 83, 'MRNA': 54, 'REGN': 2}\n",
      "Trend200 2020-03-24 7104.277802134312 0.9923549003663439 {'ABMD': 5, 'DXC': 68, 'CTRA': 55, 'FANG': 38, 'UAA': 85, 'UA': 95, 'OXY': 67, 'DD': 24, 'DVN': 122, 'MRO': 192}\n",
      "Momentum200 2020-03-24 14280.835274191033 0.7465293615008548 {'ENPH': 50, 'HFG.DE': 85, 'AMD': 26, 'DHER.DE': 20, 'TSLA': 61, 'DXCM': 24, 'NLOK': 75, 'NVDA': 22, 'DVA': 18, 'REGN': 2}\n",
      "Simple30 2020-04-16 18406.046344631974 9.422422746964145 {'HFG.DE': 71, 'TSLA': 41, 'DXCM': 24, 'DHER.DE': 26, 'ENPH': 44, 'NLOK': 89, 'MRNA': 57, 'REGN': 4, 'KR': 56, 'DPZ': 4}\n",
      "Trend200 2020-04-16 8715.731902647274 6.587396660448508 {'DXC': 66, 'FANG': 33, 'UAA': 90, 'UA': 100, 'OXY': 65, 'DD': 25, 'DVN': 121, 'MRO': 214, 'VTR': 30, 'EXPE': 14}\n",
      "Momentum200 2020-04-16 17375.553678755714 1.4665989511795345 {'ENPH': 45, 'HFG.DE': 93, 'AMD': 28, 'DHER.DE': 20, 'TSLA': 52, 'DXCM': 20, 'NLOK': 69, 'NVDA': 20, 'REGN': 2, 'MRNA': 56}\n",
      "Simple30 2020-05-08 22213.355930159098 9.0796284468653 {'HFG.DE': 68, 'TSLA': 46, 'DXCM': 22, 'ENPH': 37, 'NLOK': 101, 'MRNA': 56, 'REGN': 3, 'NEM': 36, 'AMD': 39, 'NVDA': 26}\n",
      "Trend200 2020-05-08 10195.224911067931 2.625021200928071 {'DXC': 58, 'FANG': 28, 'UA': 112, 'OXY': 74, 'DVN': 97, 'MRO': 188, 'VTR': 40, 'NCLH': 81, 'UAL': 43, 'CCL': 72}\n",
      "Momentum200 2020-05-08 21028.23034028925 19.85703507019025 {'ENPH': 40, 'HFG.DE': 97, 'DHER.DE': 20, 'TSLA': 48, 'DXCM': 22, 'NVDA': 19, 'REGN': 2, 'MRNA': 57, 'SEDG': 14, 'NEM': 23}\n",
      "Simple30 2020-05-29 22210.151034804258 33.97968557049046 {'HFG.DE': 65, 'TSLA': 43, 'DXCM': 25, 'ENPH': 40, 'MRNA': 55, 'REGN': 3, 'NEM': 37, 'NVDA': 22, 'SRT3.DE': 7, 'ETSY': 25}\n",
      "Trend200 2020-05-29 10526.16520652447 1.760282247843783 {'FANG': 27, 'OXY': 81, 'MRO': 190, 'VTR': 31, 'NCLH': 72, 'UAL': 40, 'CCL': 70, 'BA': 7, 'RCL': 21, 'SPG': 21}\n",
      "Momentum200 2020-05-29 21298.540502543452 18.94349391397549 {'ENPH': 28, 'HFG.DE': 81, 'DHER.DE': 17, 'TSLA': 53, 'DXCM': 23, 'NVDA': 22, 'REGN': 3, 'MRNA': 65, 'SEDG': 11, 'NLOK': 74}\n",
      "Simple30 2020-06-22 23954.57231117719 34.823651550655086 {'HFG.DE': 61, 'TSLA': 39, 'DXCM': 23, 'ENPH': 53, 'MRNA': 50, 'REGN': 3, 'NVDA': 24, 'SRT3.DE': 8, 'ETSY': 23, 'SEDG': 13}\n",
      "Trend200 2020-06-22 12348.37221710602 6.390098946068498 {'FANG': 29, 'OXY': 63, 'MRO': 199, 'NCLH': 77, 'UAL': 36, 'CCL': 74, 'BA': 6, 'RCL': 23, 'SPG': 22, 'AAL': 80}\n",
      "Momentum200 2020-06-22 23434.325034767495 38.39225430112873 {'HFG.DE': 76, 'DHER.DE': 20, 'TSLA': 62, 'DXCM': 19, 'NVDA': 21, 'REGN': 3, 'MRNA': 57, 'SEDG': 10, 'AMD': 29, 'ETSY': 17}\n",
      "Simple30 2020-07-13 27675.540992679562 1.458953129862607 {'HFG.DE': 60, 'TSLA': 28, 'DXCM': 25, 'ENPH': 44, 'MRNA': 54, 'REGN': 4, 'NVDA': 25, 'ETSY': 26, 'SEDG': 15, 'PYPL': 13}\n",
      "Trend200 2020-07-13 11219.199459897825 0.23693821717582253 {'FANG': 31, 'OXY': 70, 'MRO': 208, 'NCLH': 75, 'UAL': 35, 'CCL': 70, 'BA': 6, 'RCL': 21, 'SPG': 19, 'AAL': 90}\n",
      "Momentum200 2020-07-13 27654.956063457936 50.260541376280685 {'HFG.DE': 69, 'DHER.DE': 23, 'TSLA': 55, 'DXCM': 24, 'NVDA': 20, 'REGN': 3, 'MRNA': 51, 'SEDG': 12, 'ETSY': 15, 'ENPH': 40}\n",
      "Simple30 2020-08-03 28454.459497449807 12.273226916820477 {'HFG.DE': 66, 'TSLA': 38, 'DXCM': 24, 'ENPH': 41, 'MRNA': 46, 'NVDA': 24, 'ETSY': 25, 'SEDG': 14, 'PYPL': 12, 'ABMD': 9}\n",
      "Trend200 2020-08-03 10242.797609395651 3.2122518321853413 {'OXY': 65, 'MRO': 183, 'NCLH': 87, 'UAL': 34, 'CCL': 81, 'BA': 6, 'RCL': 22, 'SPG': 18, 'AAL': 91, 'OKE': 42}\n",
      "Momentum200 2020-08-03 27635.08366436275 30.64947641812165 {'HFG.DE': 53, 'DHER.DE': 21, 'TSLA': 56, 'DXCM': 23, 'NVDA': 19, 'REGN': 3, 'MRNA': 59, 'ETSY': 17, 'ENPH': 36, 'AMD': 32}\n",
      "Simple30 2020-08-24 31590.389738661062 31.72394409543847 {'HFG.DE': 66, 'TSLA': 27, 'ENPH': 42, 'MRNA': 54, 'NVDA': 22, 'ETSY': 26, 'SEDG': 15, 'ABMD': 9, 'PENN': 54, 'WST': 10}\n",
      "Trend200 2020-08-24 11005.046524448158 2.880586794917452 {'OXY': 85, 'MRO': 201, 'NCLH': 79, 'UAL': 35, 'CCL': 78, 'RCL': 17, 'SPG': 18, 'AAL': 85, 'OKE': 47, 'DAL': 37}\n"
     ]
    },
    {
     "name": "stdout",
     "output_type": "stream",
     "text": [
      "Momentum200 2020-08-24 30612.03542368359 12.099868641270291 {'HFG.DE': 63, 'TSLA': 45, 'DXCM': 25, 'NVDA': 18, 'MRNA': 57, 'ETSY': 18, 'ENPH': 44, 'AMD': 28, 'PENN': 43, 'SEDG': 10}\n",
      "Simple30 2020-09-14 29091.24681449937 4.721002744382673 {'TSLA': 29, 'ENPH': 41, 'MRNA': 45, 'NVDA': 20, 'ETSY': 28, 'SEDG': 16, 'PENN': 51, 'GNRC': 15, 'BBWI': 121, 'AMD': 35}\n",
      "Trend200 2020-09-14 11328.405373042477 5.174804456414314 {'OXY': 115, 'MRO': 250, 'NCLH': 73, 'UAL': 32, 'CCL': 68, 'RCL': 15, 'SPG': 20, 'AAL': 83, 'OKE': 50, 'DAL': 31}\n",
      "Momentum200 2020-09-14 27911.46579483839 7.537153459068122 {'HFG.DE': 55, 'TSLA': 42, 'NVDA': 19, 'MRNA': 51, 'ETSY': 24, 'ENPH': 53, 'PENN': 44, 'SEDG': 12, 'DHER.DE': 21, 'GNRC': 10}\n",
      "Simple30 2020-10-05 34259.21283673564 9.352045040370935 {'TSLA': 31, 'ENPH': 34, 'NVDA': 25, 'ETSY': 24, 'SEDG': 12, 'PENN': 58, 'GNRC': 16, 'BBWI': 129, 'AMD': 37, 'FDX': 13}\n",
      "Trend200 2020-10-05 10979.829150531854 4.37450087734933 {'OXY': 118, 'MRO': 262, 'NCLH': 75, 'UAL': 30, 'CCL': 79, 'SPG': 17, 'AAL': 79, 'OKE': 46, 'DVN': 120, 'FANG': 36}\n",
      "Momentum200 2020-10-05 33130.013819573585 9.141818078529127 {'HFG.DE': 57, 'TSLA': 44, 'NVDA': 20, 'MRNA': 55, 'ETSY': 26, 'ENPH': 42, 'PENN': 42, 'SEDG': 12, 'GNRC': 10, 'AMD': 26}\n",
      "Simple30 2020-10-26 34428.20103359243 16.376781567557153 {'TSLA': 29, 'ENPH': 37, 'NVDA': 23, 'ETSY': 23, 'SEDG': 13, 'PENN': 68, 'GNRC': 15, 'BBWI': 125, 'FDX': 12, 'UPS': 19}\n",
      "Trend200 2020-10-26 10830.549880826313 5.00388617965411 {'OXY': 125, 'MRO': 252, 'NCLH': 68, 'UAL': 28, 'CCL': 78, 'SPG': 18, 'AAL': 82, 'OKE': 41, 'FANG': 39, 'APA': 117}\n",
      "Momentum200 2020-10-26 33014.740246473404 19.08785365415622 {'HFG.DE': 61, 'TSLA': 37, 'NVDA': 19, 'MRNA': 67, 'ETSY': 25, 'ENPH': 39, 'PENN': 45, 'SEDG': 11, 'GNRC': 12, 'BBWI': 84}\n",
      "Simple30 2020-11-16 34330.2738037958 17.28594597332335 {'TSLA': 27, 'ENPH': 33, 'ETSY': 27, 'SEDG': 16, 'PENN': 54, 'GNRC': 16, 'BBWI': 120, 'FDX': 13, 'GPS': 157, 'ALGN': 6}\n",
      "Trend200 2020-11-16 12846.743668022464 6.01836861314032 {'OXY': 119, 'MRO': 243, 'NCLH': 61, 'UAL': 29, 'CCL': 77, 'AAL': 96, 'OKE': 46, 'FANG': 37, 'APA': 115, 'WFC': 51}\n",
      "Momentum200 2020-11-16 34925.3559060728 20.463680681051414 {'HFG.DE': 57, 'TSLA': 31, 'NVDA': 22, 'MRNA': 62, 'ETSY': 27, 'ENPH': 42, 'PENN': 44, 'SEDG': 13, 'GNRC': 12, 'FDX': 9}\n",
      "Simple30 2020-12-07 38926.01109186431 0.33098294771877335 {'TSLA': 20, 'ENPH': 33, 'PENN': 55, 'BBWI': 129, 'GPS': 195, 'ALGN': 7, 'FCX': 159, 'NDX1.DE': 201, 'MRNA': 25, 'TPR': 135}\n",
      "Trend200 2020-12-07 16378.12075975422 2.2530505238704848 {'OXY': 106, 'CCL': 67, 'OKE': 45, 'WFC': 59, 'FE': 67, 'HII': 10, 'EQR': 28, 'GILD': 28, 'BXP': 16, 'BAYN.DE': 35}\n",
      "Momentum200 2020-12-07 42904.361250325266 2.3055506861700223 {'HFG.DE': 75, 'TSLA': 25, 'MRNA': 79, 'ETSY': 28, 'ENPH': 27, 'PENN': 40, 'SEDG': 10, 'FCX': 127, 'MTCH': 20, 'ALGN': 5}\n",
      "Simple30 2020-12-30 41184.632640031195 16.725062816804552 {'TSLA': 19, 'ENPH': 27, 'PENN': 46, 'BBWI': 131, 'ALGN': 7, 'FCX': 166, 'NDX1.DE': 189, 'MRNA': 38, 'TPR': 136, 'CZR': 55}\n",
      "Trend200 2020-12-30 15740.106110825122 6.364233556160052 {'FE': 64, 'HII': 9, 'GILD': 32, 'BAYN.DE': 36, 'BIIB': 7, 'INTC': 35, 'WBA': 43, 'VRTX': 6, 'CBOE': 16, 'MOR.DE': 16}\n",
      "Momentum200 2020-12-30 44572.91646305395 7.556522222972266 {'HFG.DE': 54, 'TSLA': 28, 'MRNA': 46, 'ETSY': 23, 'ENPH': 32, 'PENN': 64, 'SEDG': 11, 'FCX': 154, 'CZR': 50, 'NDX1.DE': 156}\n",
      "Simple30 2021-01-22 47787.06603509458 4.8257072131274406 {'TSLA': 20, 'ENPH': 26, 'PENN': 45, 'BBWI': 119, 'FCX': 166, 'NDX1.DE': 190, 'MRNA': 35, 'TPR': 142, 'CZR': 55, 'ALB': 26}\n",
      "Trend200 2021-01-22 17143.757641949604 3.8271027540216878 {'FE': 65, 'HII': 11, 'GILD': 28, 'BAYN.DE': 37, 'BIIB': 6, 'INTC': 30, 'VRTX': 7, 'MOR.DE': 17, 'SANT.DE': 83, 'COK.DE': 37}\n",
      "Momentum200 2021-01-22 51554.00063773645 18.742448239301993 {'TSLA': 26, 'MRNA': 29, 'ETSY': 25, 'ENPH': 30, 'PENN': 78, 'SEDG': 12, 'FCX': 145, 'CZR': 66, 'BBWI': 108, 'APA': 230}\n",
      "Simple30 2021-02-12 49772.6060144137 10.653540784707197 {'TSLA': 21, 'ENPH': 30, 'PENN': 47, 'FCX': 163, 'NDX1.DE': 209, 'MRNA': 25, 'TPR': 129, 'ALB': 28, 'SIVB': 9, 'IVZ': 215}\n",
      "Trend200 2021-02-12 17316.38169663124 15.999720624255033 {'FE': 62, 'GILD': 29, 'BAYN.DE': 35, 'VRTX': 9, 'MOR.DE': 19, 'SANT.DE': 87, '1U1.DE': 83, 'REGN': 3, 'JKHY': 11, 'SAP.DE': 16}\n",
      "Momentum200 2021-02-12 53715.5973034978 11.989270271036474 {'TSLA': 25, 'MRNA': 24, 'ETSY': 18, 'ENPH': 29, 'PENN': 86, 'FCX': 148, 'CZR': 72, 'BBWI': 139, 'NDX1.DE': 166, 'GNRC': 12}\n",
      "Simple30 2021-03-05 45723.18582229123 17.178955170788186 {'TSLA': 23, 'ENPH': 31, 'PENN': 42, 'FCX': 139, 'NDX1.DE': 213, 'MRNA': 35, 'TPR': 115, 'SIVB': 8, 'IVZ': 195, 'SBNY': 22}\n",
      "Trend200 2021-03-05 17007.485643324235 8.251217650019882 {'FE': 54, 'BAYN.DE': 37, 'VRTX': 8, 'MOR.DE': 22, 'SANT.DE': 80, 'REGN': 4, 'JKHY': 11, 'SAP.DE': 17, 'DB1.DE': 13, 'FME.DE': 30}\n",
      "Momentum200 2021-03-05 50684.14086731694 22.026480947677157 {'TSLA': 23, 'PENN': 71, 'FCX': 153, 'CZR': 56, 'BBWI': 154, 'GNRC': 12, 'GPS': 192, 'IVZ': 204, 'TPR': 108, 'UAA': 165}\n",
      "Simple30 2021-03-26 46371.70447410785 5.84537957258828 {'PENN': 43, 'FCX': 145, 'TPR': 119, 'SIVB': 9, 'SBNY': 22, 'MRO': 448, 'DVN': 227, 'FANG': 64, 'OXY': 165, 'BBWI': 90}\n",
      "Trend200 2021-03-26 17133.91775171943 14.70696339347841 {'BAYN.DE': 35, 'VRTX': 9, 'MOR.DE': 25, 'REGN': 3, 'JKHY': 12, 'SAP.DE': 18, 'DB1.DE': 12, 'FME.DE': 29, 'INCY': 22, 'AMT': 7}\n",
      "Momentum200 2021-03-26 51876.7175510169 25.622726565344486 {'TSLA': 29, 'PENN': 54, 'FCX': 169, 'BBWI': 123, 'GNRC': 17, 'IVZ': 183, 'TPR': 110, 'ENPH': 34, 'NDX1.DE': 191, 'ETSY': 23}\n",
      "Simple30 2021-04-20 45981.82104656094 8.32354126359241 {'FCX': 122, 'TPR': 111, 'SBNY': 21, 'MRO': 458, 'DVN': 238, 'FANG': 66, 'OXY': 182, 'BBWI': 91, 'IVZ': 184, 'PAH3.DE': 49}\n",
      "Trend200 2021-04-20 18015.385491671957 37.63746697913244 {'VRTX': 8, 'MOR.DE': 26, 'REGN': 4, 'JKHY': 10, 'SAP.DE': 16, 'DB1.DE': 13, 'FME.DE': 28, 'INCY': 21, 'CLX': 10, 'SOW.DE': 50}\n",
      "Momentum200 2021-04-20 53191.314425461605 12.799957240740078 {'TSLA': 25, 'PENN': 59, 'FCX': 158, 'BBWI': 145, 'GNRC': 14, 'IVZ': 179, 'TPR': 135, 'ENPH': 35, 'MOS': 140, 'GPS': 150}\n",
      "Simple30 2021-05-11 48338.18068463509 5.387885805716401 {'FCX': 117, 'TPR': 113, 'SBNY': 20, 'MRO': 435, 'FANG': 65, 'BBWI': 94, 'IVZ': 184, 'PAH3.DE': 59, 'AMAT': 41, 'MHK': 21}\n",
      "Trend200 2021-05-11 17340.373226740074 26.84739057985994 {'VRTX': 10, 'MOR.DE': 29, 'REGN': 3, 'SAP.DE': 16, 'FME.DE': 28, 'INCY': 22, 'CLX': 9, 'SOW.DE': 53, 'NEM.DE': 31, 'EQIX': 2}\n",
      "Momentum200 2021-05-11 51740.00544768036 3.4627170838343773 {'FCX': 138, 'BBWI': 121, 'IVZ': 185, 'TPR': 139, 'MOS': 139, 'GPS': 156, 'MHK': 23, 'CZR': 48, 'COF': 30, 'SIVB': 8}\n",
      "Simple30 2021-06-02 51437.80432136655 5.653544056304661 {'FCX': 121, 'TPR': 117, 'SBNY': 22, 'MRO': 372, 'FANG': 62, 'BBWI': 92, 'NUE': 49, 'DVN': 192, 'EUZ.DE': 57, 'COF': 31}\n",
      "Trend200 2021-06-02 17761.446243118455 26.934965106629008 {'VRTX': 8, 'MOR.DE': 26, 'REGN': 4, 'SAP.DE': 15, 'FME.DE': 27, 'CLX': 11, 'SOW.DE': 49, 'NEM.DE': 28, 'TMV.DE': 55, 'MKC': 20}\n",
      "Momentum200 2021-06-02 52945.3134400755 2.427562419891494 {'FCX': 145, 'BBWI': 92, 'IVZ': 200, 'TPR': 133, 'CZR': 52, 'COF': 31, 'SIVB': 8, 'MRNA': 29, 'DVN': 186, 'NUE': 45}\n",
      "Simple30 2021-06-23 49350.31581982148 12.611397344088218 {'SBNY': 20, 'MRO': 380, 'FANG': 56, 'NUE': 56, 'DVN': 202, 'EUZ.DE': 53, 'COF': 32, 'HES': 55, 'EOG': 62, 'DXC': 125}\n",
      "Trend200 2021-06-23 17852.649428603683 14.16157619838549 {'VRTX': 10, 'MOR.DE': 32, 'REGN': 3, 'FME.DE': 26, 'CLX': 10, 'TMV.DE': 55, 'MKC': 21, 'COP.DE': 27, 'CRM': 7, 'ROL': 52}\n",
      "Momentum200 2021-06-23 50717.16249122937 14.248424765216448 {'FCX': 124, 'BBWI': 82, 'IVZ': 203, 'TPR': 137, 'MRNA': 30, 'DVN': 207, 'MRO': 373, 'SBNY': 20, 'OXY': 153, 'FANG': 53}\n",
      "Simple30 2021-07-14 49626.20437236771 5.931827350916819 {'MRO': 397, 'FANG': 60, 'NUE': 53, 'DVN': 199, 'EUZ.DE': 52, 'HES': 58, 'DXC': 119, 'MRNA': 21, 'FTNT': 93, 'OXY': 158}\n",
      "Trend200 2021-07-14 17851.891219265985 12.451219647063695 {'VRTX': 9, 'MOR.DE': 31, 'CLX': 11, 'TMV.DE': 63, 'COP.DE': 26, 'ROL': 50, 'MKTX': 4, 'VTRS': 132, 'VRSK': 9, 'BC8.DE': 32}\n",
      "Momentum200 2021-07-14 51178.234066408535 8.599203736908184 {'BBWI': 77, 'IVZ': 190, 'TPR': 113, 'MRNA': 26, 'DVN': 222, 'MRO': 405, 'SBNY': 22, 'OXY': 160, 'FANG': 61, 'ENPH': 25}\n"
     ]
    },
    {
     "name": "stdout",
     "output_type": "stream",
     "text": [
      "Simple30 2021-08-04 51931.392818869164 3.338392368844996 {'MRO': 441, 'NUE': 47, 'DVN': 219, 'EUZ.DE': 47, 'DXC': 113, 'MRNA': 16, 'FTNT': 88, 'GNRC': 13, 'BBWI': 80, 'IT': 17}\n",
      "Trend200 2021-08-04 17347.6022037368 2.2228724013701253 {'VRTX': 9, 'MOR.DE': 45, 'CLX': 10, 'TMV.DE': 73, 'COP.DE': 25, 'ROL': 43, 'MKTX': 3, 'VTRS': 129, 'SEDG': 6, 'PAYC': 4}\n",
      "Momentum200 2021-08-04 51719.16838740792 0.07099425797350278 {'BBWI': 72, 'MRNA': 24, 'DVN': 217, 'MRO': 453, 'SBNY': 23, 'OXY': 173, 'FANG': 66, 'EUZ.DE': 43, 'IT': 14, 'FTNT': 71}\n",
      "Simple30 2021-08-25 53719.18495469532 61.23628441494998 {'NUE': 43, 'EUZ.DE': 48, 'MRNA': 19, 'FTNT': 92, 'GNRC': 11, 'BBWI': 74, 'IT': 18, 'EPAM': 8, 'AFX.DE': 26, 'CRL': 11}\n",
      "Trend200 2021-08-25 18041.169238651488 1.3113429250078639 {'MOR.DE': 43, 'CLX': 11, 'TMV.DE': 70, 'MKTX': 3, 'VTRS': 127, 'NDX1.DE': 112, 'S92.DE': 45, 'LVS': 42, 'PENN': 24, 'ENR.DE': 71}\n",
      "Momentum200 2021-08-25 53373.89456633337 11.658179059877284 {'BBWI': 66, 'MRNA': 26, 'DVN': 207, 'MRO': 423, 'SBNY': 21, 'OXY': 178, 'FANG': 67, 'EUZ.DE': 41, 'FTNT': 79, 'NUE': 37}\n",
      "Simple30 2021-09-15 54409.044823146556 49.70826950319508 {'NUE': 51, 'EUZ.DE': 44, 'MRNA': 16, 'FTNT': 91, 'IT': 17, 'EPAM': 9, 'CRL': 11, 'ALB': 23, 'WST': 11, 'NVDA': 22}\n",
      "Trend200 2021-09-15 16881.165996547246 11.797253626991619 {'MOR.DE': 48, 'TMV.DE': 62, 'MKTX': 4, 'VTRS': 122, 'NDX1.DE': 113, 'S92.DE': 46, 'LVS': 44, 'PENN': 21, 'ENR.DE': 70, 'IPGP': 9}\n",
      "Momentum200 2021-09-15 54793.151117378824 3.96723960403466 {'MRNA': 21, 'DVN': 189, 'MRO': 396, 'SBNY': 22, 'OXY': 161, 'EUZ.DE': 52, 'FTNT': 94, 'NUE': 44, 'AIXA.DE': 186, 'IT': 14}\n",
      "Simple30 2021-10-06 48862.655092383706 55.417417421635946 {'EUZ.DE': 47, 'MRNA': 20, 'FTNT': 82, 'IT': 15, 'EPAM': 7, 'ALB': 20, 'WST': 12, 'NVDA': 23, 'NA9.DE': 34, 'NEM.DE': 55}\n",
      "Trend200 2021-10-06 15753.255691447892 0.8496226380335656 {'MOR.DE': 45, 'TMV.DE': 72, 'MKTX': 3, 'NDX1.DE': 126, 'S92.DE': 45, 'LVS': 42, 'PENN': 23, 'ENR.DE': 69, 'IPGP': 10, 'TTWO': 9}\n",
      "Momentum200 2021-10-06 54015.21691832876 13.975819573824182 {'MRNA': 15, 'DVN': 182, 'MRO': 377, 'SBNY': 19, 'EUZ.DE': 57, 'FTNT': 93, 'IT': 16, 'FANG': 57, 'BBWI': 81, 'NA9.DE': 31}\n",
      "Simple30 2021-10-27 54501.80658754712 13.970696062330632 {'EUZ.DE': 42, 'MRNA': 17, 'FTNT': 84, 'IT': 17, 'NA9.DE': 33, 'NEM.DE': 53, 'DVN': 158, 'DXCM': 37, 'MRO': 313, 'FANG': 49}\n",
      "Trend200 2021-10-27 16144.819264060547 0.9736885564995532 {'MOR.DE': 48, 'TMV.DE': 137, 'NDX1.DE': 105, 'S92.DE': 36, 'LVS': 40, 'PENN': 21, 'ENR.DE': 62, 'IPGP': 9, 'WYNN': 17, 'LW': 26}\n",
      "Momentum200 2021-10-27 58995.74050121492 8.13097157169966 {'MRNA': 23, 'DVN': 169, 'MRO': 364, 'SBNY': 18, 'EUZ.DE': 53, 'FTNT': 87, 'IT': 15, 'FANG': 51, 'NA9.DE': 33, 'NUE': 49}\n",
      "Simple30 2021-11-17 54154.48647438285 18.48492503777547 {'FTNT': 77, 'NA9.DE': 30, 'NEM.DE': 49, 'DVN': 152, 'MRO': 326, 'FANG': 52, 'NVDA': 18, 'TSLA': 15, 'APA': 181, 'AMD': 35}\n",
      "Trend200 2021-11-17 15978.37866495629 8.51103635668477 {'MOR.DE': 48, 'TMV.DE': 133, 'NDX1.DE': 109, 'LVS': 40, 'PENN': 29, 'ENR.DE': 59, 'IPGP': 8, 'WYNN': 15, 'LW': 27, 'GPN': 12}\n",
      "Momentum200 2021-11-17 56955.53987876899 4.555255174928519 {'DVN': 173, 'MRO': 347, 'SBNY': 15, 'FTNT': 86, 'IT': 17, 'NA9.DE': 30, 'NUE': 55, 'NVDA': 20, 'BBWI': 78, 'NEM.DE': 43}\n",
      "Simple30 2021-12-08 53863.09910961251 19.60839956215534 {'NA9.DE': 29, 'NEM.DE': 48, 'DVN': 133, 'NVDA': 19, 'TSLA': 16, 'AMD': 38, 'ENPH': 24, 'ANET': 40, 'ALB': 19, 'F': 263}\n",
      "Trend200 2021-12-08 14975.555992333346 8.486666234231272 {'MOR.DE': 49, 'TMV.DE': 152, 'NDX1.DE': 93, 'LVS': 41, 'PENN': 30, 'WYNN': 17, 'LW': 25, 'GPN': 10, 'GPS': 85, 'ATVI': 24}\n",
      "Momentum200 2021-12-08 56974.35045294012 7.309623050821472 {'DVN': 154, 'FTNT': 88, 'NA9.DE': 32, 'NUE': 50, 'NVDA': 21, 'BBWI': 71, 'NEM.DE': 56, 'MRNA': 18, 'POOL': 9, 'EPAM': 8}\n",
      "Simple30 2021-12-30 53390.35894550034 7.7681034775961955 {'NA9.DE': 27, 'NEM.DE': 50, 'DVN': 132, 'NVDA': 20, 'TSLA': 14, 'AMD': 37, 'ENPH': 27, 'ANET': 36, 'F': 266, 'DLTR': 36}\n",
      "Trend200 2021-12-30 14941.529528537065 5.182257184368808 {'MOR.DE': 53, 'TMV.DE': 150, 'NDX1.DE': 105, 'LVS': 40, 'PENN': 31, 'WYNN': 16, 'LW': 22, 'GPN': 11, 'GPS': 89, 'ATVI': 20}\n",
      "Momentum200 2021-12-30 56991.31436654417 24.617241549557903 {'DVN': 139, 'FTNT': 76, 'NA9.DE': 33, 'NVDA': 22, 'NEM.DE': 55, 'EPAM': 7, 'ANET': 41, 'IT': 16, 'AMD': 35, 'COST': 9}\n",
      "Simple30 2022-01-21 45841.91474089573 0.29973539029781193 {'NA9.DE': 30, 'DVN': 113, 'NVDA': 19, 'TSLA': 13, 'AMD': 38, 'ANET': 39, 'F': 238, 'DLTR': 34, 'PFE': 85, 'APA': 144}\n",
      "Trend200 2022-01-21 15414.269886151826 12.430158735890364 {'MOR.DE': 62, 'TMV.DE': 135, 'NDX1.DE': 104, 'LVS': 34, 'PENN': 37, 'WYNN': 17, 'LW': 21, 'GPN': 10, 'GPS': 107, 'ATVI': 17}\n",
      "Momentum200 2022-01-21 46793.79127489734 12.177527181869745 {'DVN': 137, 'FTNT': 72, 'NA9.DE': 29, 'NVDA': 19, 'ANET': 35, 'APA': 159, 'MRO': 255, 'F': 224, 'COP': 57, 'FANG': 40}\n",
      "Simple30 2022-02-11 46058.35917050241 8.765945141760874 {'DVN': 104, 'F': 267, 'APA': 143, 'MRO': 222, 'FANG': 38, 'COP': 53, 'EOG': 42, 'PXD': 21, 'CF': 60, 'HAL': 136}\n",
      "Trend200 2022-02-11 15996.595657042963 0.443188305950855 {'MOR.DE': 68, 'TMV.DE': 129, 'LVS': 31, 'PENN': 31, 'WYNN': 16, 'GPN': 11, 'GPS': 103, 'PYPL': 13, 'TWTR': 41, 'BIIB': 6}\n",
      "Momentum200 2022-02-11 49325.94216450653 2.8042328542004853 {'DVN': 139, 'FTNT': 68, 'NVDA': 17, 'APA': 147, 'MRO': 254, 'COP': 58, 'FANG': 37, 'HAL': 146, 'EOG': 43, 'OXY': 110}\n",
      "Simple30 2022-03-04 49131.39589901992 2.096936230110977 {'DVN': 98, 'APA': 131, 'MRO': 229, 'FANG': 37, 'COP': 52, 'EOG': 45, 'PXD': 22, 'CF': 54, 'HAL': 150, 'OXY': 100}\n",
      "Trend200 2022-03-04 14090.26590928775 0.8391753106428972 {'MOR.DE': 73, 'TMV.DE': 129, 'PENN': 28, 'GPN': 9, 'GPS': 101, 'PYPL': 15, 'TWTR': 40, 'BIIB': 6, 'DHER.DE': 32, 'ZAL.DE': 28}\n",
      "Momentum200 2022-03-04 52269.93032454112 22.728521733028288 {'DVN': 123, 'FTNT': 73, 'NVDA': 21, 'APA': 136, 'MRO': 249, 'COP': 54, 'FANG': 40, 'OXY': 114, 'CF': 55, 'PXD': 21}\n",
      "Simple30 2022-03-25 53800.4493558458 14.548863281646568 {'DVN': 98, 'APA': 136, 'MRO': 221, 'COP': 51, 'EOG': 44, 'CF': 51, 'HAL': 142, 'OXY': 101, 'MOS': 81, 'CVX': 32}\n",
      "Trend200 2022-03-25 14589.495446027106 2.6935603648663005 {'MOR.DE': 58, 'TMV.DE': 120, 'PENN': 32, 'GPS': 112, 'PYPL': 13, 'TWTR': 36, 'BIIB': 7, 'DHER.DE': 38, 'ZAL.DE': 29, 'MRNA': 7}\n",
      "Momentum200 2022-03-25 57251.624896255686 17.700954429948276 {'DVN': 117, 'NVDA': 18, 'APA': 139, 'MRO': 230, 'COP': 55, 'OXY': 108, 'CF': 58, 'MOS': 90, 'TSLA': 15, 'CTRA': 207}\n",
      "Simple30 2022-04-19 56655.04086982279 17.223768286342803 {'DVN': 94, 'APA': 132, 'MRO': 212, 'COP': 53, 'CF': 55, 'HAL': 136, 'OXY': 106, 'MOS': 79, 'CVX': 31, 'BKR': 147}\n",
      "Trend200 2022-04-19 13782.210444328612 5.51365984716216 {'MOR.DE': 58, 'TMV.DE': 113, 'GPS': 99, 'PYPL': 15, 'TWTR': 27, 'DHER.DE': 41, 'ZAL.DE': 30, 'MRNA': 9, 'HFG.DE': 36, 'EUZ.DE': 24}\n",
      "Momentum200 2022-04-19 58930.90690151747 23.88393307057615 {'DVN': 113, 'APA': 139, 'MRO': 219, 'OXY': 94, 'CF': 57, 'MOS': 95, 'CTRA': 197, 'NUE': 33, 'HAL': 129, 'MCK': 15}\n",
      "Simple30 2022-05-10 50546.49791087511 26.262952463032775 {'DVN': 82, 'APA': 135, 'MRO': 208, 'CF': 57, 'HAL': 147, 'OXY': 93, 'MOS': 94, 'CVX': 29, 'CTRA': 172, 'VLO': 41}\n",
      "Trend200 2022-05-10 11570.720936072925 8.14705611053197 {'MOR.DE': 63, 'TMV.DE': 96, 'GPS': 91, 'PYPL': 16, 'DHER.DE': 49, 'ZAL.DE': 34, 'MRNA': 9, 'HFG.DE': 32, 'EUZ.DE': 29, 'EPAM': 3}\n",
      "Momentum200 2022-05-10 52799.901451172664 17.98573507571537 {'DVN': 110, 'APA': 143, 'MRO': 225, 'OXY': 96, 'CF': 55, 'MOS': 86, 'CTRA': 187, 'VLO': 43, 'PXD': 20, 'COP': 49}\n",
      "Simple30 2022-05-31 59916.155300247374 22.965123351583216 {'DVN': 82, 'APA': 119, 'MRO': 188, 'CF': 62, 'HAL': 136, 'OXY': 91, 'MOS': 99, 'CTRA': 174, 'VLO': 46, 'MPC': 55}\n",
      "Trend200 2022-05-31 12734.562610726009 8.718904466544515 {'MOR.DE': 57, 'PYPL': 17, 'DHER.DE': 39, 'ZAL.DE': 31, 'MRNA': 10, 'HFG.DE': 36, 'EUZ.DE': 30, 'EPAM': 3, 'NFLX': 6, 'PENN': 38}\n",
      "Momentum200 2022-05-31 62874.376497400975 8.851124002759782 {'DVN': 105, 'APA': 140, 'MRO': 219, 'OXY': 100, 'CF': 57, 'CTRA': 184, 'VLO': 41, 'COP': 50, 'EOG': 42, 'FANG': 36}\n",
      "Simple30 2022-06-21 48911.90429333356 8.080870471975373 {'DVN': 89, 'APA': 124, 'MRO': 203, 'OXY': 94, 'CTRA': 191, 'VLO': 45, 'MPC': 53, 'XOM': 53, 'PXD': 20, 'COP': 50}\n"
     ]
    },
    {
     "name": "stdout",
     "output_type": "stream",
     "text": [
      "Trend200 2022-06-21 11119.68396374694 5.6289291094888085 {'PYPL': 15, 'DHER.DE': 34, 'ZAL.DE': 41, 'MRNA': 8, 'HFG.DE': 37, 'EUZ.DE': 31, 'EPAM': 4, 'NFLX': 6, 'PENN': 36, 'ETSY': 15}\n",
      "Momentum200 2022-06-21 50883.66440808807 12.490523014574158 {'DVN': 99, 'APA': 136, 'MRO': 225, 'OXY': 103, 'CF': 59, 'CTRA': 185, 'VLO': 42, 'COP': 48, 'EOG': 42, 'FANG': 36}\n",
      "Simple30 2022-07-12 43726.456908647786 0.40859280066296577 {'DVN': 89, 'APA': 134, 'MRO': 215, 'OXY': 84, 'CTRA': 177, 'VLO': 44, 'MPC': 54, 'XOM': 52, 'AIXA.DE': 176, 'HES': 44}\n",
      "Trend200 2022-07-12 11831.24897572509 4.528921098624551 {'PYPL': 19, 'DHER.DE': 33, 'ZAL.DE': 44, 'MRNA': 6, 'HFG.DE': 35, 'EUZ.DE': 34, 'EPAM': 3, 'NFLX': 8, 'ETSY': 13, 'CDAY': 22}\n",
      "Momentum200 2022-07-12 45258.05623099439 15.29055526955063 {'DVN': 98, 'APA': 138, 'MRO': 223, 'OXY': 99, 'CF': 52, 'VLO': 41, 'DLTR': 30, 'MCK': 13, 'XOM': 50, 'VRTX': 13}\n",
      "Simple30 2022-08-02 49218.61058317745 14.523189929682161 {'OXY': 83, 'VLO': 45, 'XOM': 51, 'AIXA.DE': 198, 'VRTX': 19, 'MCK': 14, 'LLY': 15, 'LW': 61, 'CI': 17, 'DLTR': 28}\n",
      "Trend200 2022-08-02 13206.638948411857 14.368936510001731 {'PYPL': 15, 'DHER.DE': 29, 'ZAL.DE': 50, 'HFG.DE': 47, 'EUZ.DE': 30, 'EPAM': 4, 'NFLX': 6, 'ETSY': 14, 'CDAY': 22, 'ALGN': 4}\n",
      "Momentum200 2022-08-02 49469.41104966679 23.926161694875375 {'DVN': 85, 'MRO': 195, 'OXY': 92, 'CF': 50, 'DLTR': 31, 'MCK': 16, 'XOM': 51, 'VRTX': 16, 'ENPH': 17, 'CVX': 29}\n",
      "Simple30 2022-08-23 50508.6510364098 3.7233104710661564 {'OXY': 76, 'VLO': 40, 'AIXA.DE': 221, 'VRTX': 17, 'MCK': 13, 'LW': 63, 'CI': 16, 'ENPH': 20, 'S92.DE': 105, 'PWR': 35}\n",
      "Trend200 2022-08-23 13444.209127397453 4.199032754813743 {'PYPL': 14, 'DHER.DE': 31, 'ZAL.DE': 55, 'HFG.DE': 49, 'EUZ.DE': 33, 'NFLX': 6, 'ETSY': 13, 'ALGN': 5, 'UAA': 149, 'UA': 160}\n",
      "Momentum200 2022-08-23 52303.382432327715 4.380070185228007 {'DVN': 79, 'MRO': 188, 'OXY': 91, 'CF': 56, 'MCK': 14, 'XOM': 50, 'VRTX': 17, 'VLO': 43, 'MPC': 49, 'CTRA': 162}\n",
      "Simple30 2022-09-13 50704.91471193744 19.227249790000386 {'OXY': 81, 'MCK': 14, 'LW': 64, 'ENPH': 21, 'S92.DE': 99, 'PWR': 33, 'CAH': 74, 'CF': 49, 'ALB': 16, 'MPC': 49}\n",
      "Trend200 2022-09-13 13407.004044504081 6.714034051810813 {'PYPL': 13, 'DHER.DE': 25, 'ZAL.DE': 60, 'HFG.DE': 48, 'EUZ.DE': 34, 'NFLX': 7, 'ETSY': 12, 'ALGN': 5, 'UAA': 153, 'UA': 167}\n",
      "Momentum200 2022-09-13 50983.90111074622 3.6848831016744406 {'DVN': 79, 'MRO': 195, 'OXY': 101, 'MCK': 13, 'XOM': 51, 'VRTX': 16, 'VLO': 44, 'MPC': 50, 'HES': 39, 'COP': 44}\n",
      "Simple30 2022-10-04 50114.60019700767 9.632194177131794 {'OXY': 78, 'MCK': 14, 'LW': 62, 'ENPH': 20, 'S92.DE': 104, 'CAH': 73, 'CF': 46, 'ALB': 18, 'MPC': 46, 'DVN': 74}\n",
      "Trend200 2022-10-04 11950.833965749656 0.3090719889751199 {'ZAL.DE': 62, 'HFG.DE': 52, 'EUZ.DE': 32, 'NFLX': 5, 'ALGN': 5, 'UAA': 169, 'UA': 186, 'CCL': 168, 'CZR': 33, 'MTCH': 23}\n",
      "Momentum200 2022-10-04 50469.65877233523 3.171323066270194 {'DVN': 78, 'MRO': 198, 'OXY': 103, 'XOM': 49, 'VLO': 45, 'MPC': 48, 'HES': 40, 'COP': 43, 'CF': 47, 'APA': 120}\n",
      "Simple30 2022-10-25 50587.96306395077 17.13670542534632 {'OXY': 69, 'LW': 60, 'ENPH': 23, 'CAH': 70, 'ALB': 19, 'MPC': 45, 'COP': 41, 'TWTR': 95, 'AIXA.DE': 173, 'BIIB': 17}\n",
      "Trend200 2022-10-25 12353.439285726463 0.1609892738633789 {'ZAL.DE': 58, 'HFG.DE': 56, 'ALGN': 6, 'UAA': 179, 'UA': 197, 'CCL': 155, 'CZR': 29, 'MTCH': 27, 'DISH': 85, 'SBNY': 8}\n",
      "Momentum200 2022-10-25 55730.338030073886 8.145430629215639 {'DVN': 74, 'MRO': 185, 'OXY': 101, 'XOM': 51, 'VLO': 42, 'MPC': 49, 'HES': 39, 'COP': 45, 'ENPH': 22, 'CTRA': 175}\n",
      "Simple30 2022-11-15 54063.39548910891 44.770586132033884 {'LW': 65, 'ENPH': 18, 'CAH': 73, 'MPC': 44, 'COP': 42, 'BIIB': 19, 'HES': 36, 'SLB': 99, 'GPC': 29, 'XOM': 46}\n",
      "Trend200 2022-11-15 15345.46084641345 10.110986222105566 {'ZAL.DE': 45, 'ALGN': 8, 'UAA': 168, 'UA': 193, 'CCL': 146, 'CZR': 27, 'MTCH': 29, 'DISH': 89, 'SBNY': 10, 'EXPE': 14}\n",
      "Momentum200 2022-11-15 59453.783708106675 6.952844593844361 {'MRO': 169, 'OXY': 88, 'XOM': 45, 'VLO': 43, 'MPC': 47, 'HES': 36, 'ENPH': 27, 'S92.DE': 110, 'AIXA.DE': 199, 'CF': 48}\n",
      "Simple30 2022-12-06 53114.403290561866 21.77584990742099 {'ENPH': 16, 'CAH': 67, 'MPC': 48, 'COP': 45, 'BIIB': 18, 'HES': 38, 'SLB': 106, 'GPC': 28, 'GILD': 62, 'ABMD': 14}\n",
      "Trend200 2022-12-06 14142.52081440814 8.050928582029883 {'ALGN': 7, 'UAA': 144, 'UA': 165, 'CCL': 151, 'MTCH': 31, 'DISH': 98, 'SBNY': 12, 'VAR1.DE': 51, 'FME.DE': 45, 'GNRC': 14}\n",
      "Momentum200 2022-12-06 58060.54277603529 34.369991700824926 {'OXY': 90, 'MPC': 45, 'HES': 38, 'ENPH': 23, 'S92.DE': 119, 'AIXA.DE': 187, 'LLY': 14, 'CAH': 66, 'GILD': 59, 'MRK': 46}\n",
      "Simple30 2022-12-28 52163.12931001461 4.306158900432324 {'ENPH': 20, 'CAH': 64, 'BIIB': 20, 'SLB': 94, 'GILD': 62, 'ABMD': 14, 'S92.DE': 80, 'ROST': 44, 'GPS': 455, 'MUV2.DE': 16}\n",
      "Trend200 2022-12-28 13179.381024826842 3.2509236229234375 {'ALGN': 6, 'CCL': 173, 'MTCH': 35, 'DISH': 92, 'SBNY': 11, 'VAR1.DE': 65, 'FME.DE': 44, 'GNRC': 15, 'SIVB': 6, 'EXPE': 14}\n",
      "Momentum200 2022-12-28 56390.15973127875 20.25442042056784 {'MPC': 48, 'HES': 39, 'ENPH': 21, 'S92.DE': 93, 'CAH': 70, 'GILD': 64, 'MRK': 47, 'LW': 72, 'EPAM': 17, 'CI': 15}\n"
     ]
    }
   ],
   "source": [
    "# trade every day\n",
    "it = 0\n",
    "for day in data.index:\n",
    "    day = str(day)\n",
    "    day = day.split(' ')[0]\n",
    "    for agent in agents:\n",
    "        agent.set_stock_prices(fin_world.get_stock_prices(day))\n",
    "        agent.trade(day, it)\n",
    "    it += 1"
   ]
  },
  {
   "cell_type": "code",
   "execution_count": 7,
   "id": "950b2a3f",
   "metadata": {},
   "outputs": [
    {
     "name": "stdout",
     "output_type": "stream",
     "text": [
      "Simple30 2023-01-09 52412.58620822448 4.306158900432324 {'ENPH': 20, 'CAH': 64, 'BIIB': 20, 'SLB': 94, 'GILD': 62, 'ABMD': 14, 'S92.DE': 80, 'ROST': 44, 'GPS': 455, 'MUV2.DE': 16}\n",
      "Trend200 2023-01-09 14687.861031044798 3.2509236229234375 {'ALGN': 6, 'CCL': 173, 'MTCH': 35, 'DISH': 92, 'SBNY': 11, 'VAR1.DE': 65, 'FME.DE': 44, 'GNRC': 15, 'SIVB': 6, 'EXPE': 14}\n",
      "Momentum200 2023-01-09 56199.21409907047 20.25442042056784 {'MPC': 48, 'HES': 39, 'ENPH': 21, 'S92.DE': 93, 'CAH': 70, 'GILD': 64, 'MRK': 47, 'LW': 72, 'EPAM': 17, 'CI': 15}\n"
     ]
    }
   ],
   "source": [
    "for agent in agents:\n",
    "    print(agent.name, day, agent.balance, agent.free_cash, agent.asset)"
   ]
  }
 ],
 "metadata": {
  "kernelspec": {
   "display_name": "Python 3 (ipykernel)",
   "language": "python",
   "name": "python3"
  },
  "language_info": {
   "codemirror_mode": {
    "name": "ipython",
    "version": 3
   },
   "file_extension": ".py",
   "mimetype": "text/x-python",
   "name": "python",
   "nbconvert_exporter": "python",
   "pygments_lexer": "ipython3",
   "version": "3.8.10"
  }
 },
 "nbformat": 4,
 "nbformat_minor": 5
}
