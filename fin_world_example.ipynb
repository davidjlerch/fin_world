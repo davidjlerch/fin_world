{
 "cells": [
  {
   "cell_type": "code",
   "execution_count": 1,
   "id": "ae163ea7",
   "metadata": {},
   "outputs": [],
   "source": [
    "import src.agent as agent\n",
    "import src.stock_price_loader as spl"
   ]
  },
  {
   "cell_type": "code",
   "execution_count": 2,
   "id": "7975278a",
   "metadata": {},
   "outputs": [
    {
     "name": "stderr",
     "output_type": "stream",
     "text": [
      "Loading...: 100%|████████████████████████████████████████████████████████████████| 574/574 [00:00<00:00, 194847.08it/s]\n",
      "Loading...:   1%|▉                                                                     | 8/574 [00:01<01:41,  5.58it/s]"
     ]
    },
    {
     "name": "stdout",
     "output_type": "stream",
     "text": [
      "FB: No data found, symbol may be delisted\n",
      "BRK.B: No data found, symbol may be delisted\n"
     ]
    },
    {
     "name": "stderr",
     "output_type": "stream",
     "text": [
      "Loading...:  14%|█████████▉                                                           | 83/574 [00:22<01:39,  4.96it/s]"
     ]
    },
    {
     "name": "stdout",
     "output_type": "stream",
     "text": [
      "ANTM: No data found, symbol may be delisted\n"
     ]
    },
    {
     "name": "stderr",
     "output_type": "stream",
     "text": [
      "Loading...:  29%|███████████████████▊                                                | 167/574 [00:44<01:21,  5.02it/s]"
     ]
    },
    {
     "name": "stdout",
     "output_type": "stream",
     "text": [
      "INFO: No data found, symbol may be delisted\n",
      "XLNX: No data found, symbol may be delisted\n"
     ]
    },
    {
     "name": "stderr",
     "output_type": "stream",
     "text": [
      "Loading...:  47%|████████████████████████████████▏                                   | 272/574 [01:11<01:07,  4.45it/s]"
     ]
    },
    {
     "name": "stdout",
     "output_type": "stream",
     "text": [
      "BF.B: No data found for this date range, symbol may be delisted\n"
     ]
    },
    {
     "name": "stderr",
     "output_type": "stream",
     "text": [
      "Loading...:  49%|█████████████████████████████████▎                                  | 281/574 [01:13<01:09,  4.20it/s]"
     ]
    },
    {
     "name": "stdout",
     "output_type": "stream",
     "text": [
      "BLL: No data found, symbol may be delisted\n"
     ]
    },
    {
     "name": "stderr",
     "output_type": "stream",
     "text": [
      "Loading...:  51%|██████████████████████████████████▋                                 | 293/574 [01:16<00:59,  4.70it/s]"
     ]
    },
    {
     "name": "stdout",
     "output_type": "stream",
     "text": [
      "CERN: No data found, symbol may be delisted\n"
     ]
    },
    {
     "name": "stderr",
     "output_type": "stream",
     "text": [
      "Loading...:  57%|███████████████████████████████████████                             | 330/574 [01:25<00:48,  5.00it/s]"
     ]
    },
    {
     "name": "stdout",
     "output_type": "stream",
     "text": [
      "VIAC: No data found, symbol may be delisted\n"
     ]
    },
    {
     "name": "stderr",
     "output_type": "stream",
     "text": [
      "Loading...:  75%|██████████████████████████████████████████████████▉                 | 430/574 [01:50<00:38,  3.77it/s]"
     ]
    },
    {
     "name": "stdout",
     "output_type": "stream",
     "text": [
      "DISCA: No data found, symbol may be delisted\n",
      "DISCK: No data found, symbol may be delisted\n"
     ]
    },
    {
     "name": "stderr",
     "output_type": "stream",
     "text": [
      "Loading...:  81%|███████████████████████████████████████████████████████▎            | 467/574 [02:00<00:22,  4.84it/s]"
     ]
    },
    {
     "name": "stdout",
     "output_type": "stream",
     "text": [
      "CTXS: No data found, symbol may be delisted\n"
     ]
    },
    {
     "name": "stderr",
     "output_type": "stream",
     "text": [
      "Loading...:  85%|█████████████████████████████████████████████████████████▉          | 489/574 [02:05<00:15,  5.38it/s]"
     ]
    },
    {
     "name": "stdout",
     "output_type": "stream",
     "text": [
      "PBCT: No data found, symbol may be delisted\n"
     ]
    },
    {
     "name": "stderr",
     "output_type": "stream",
     "text": [
      "Loading...:  87%|███████████████████████████████████████████████████████████▏        | 500/574 [02:07<00:17,  4.25it/s]"
     ]
    },
    {
     "name": "stdout",
     "output_type": "stream",
     "text": [
      "NLSN: No data found, symbol may be delisted\n"
     ]
    },
    {
     "name": "stderr",
     "output_type": "stream",
     "text": [
      "Loading...:  89%|████████████████████████████████████████████████████████████▋       | 512/574 [02:10<00:14,  4.16it/s]"
     ]
    },
    {
     "name": "stdout",
     "output_type": "stream",
     "text": [
      "DAI.DE: No data found, symbol may be delisted\n"
     ]
    },
    {
     "name": "stderr",
     "output_type": "stream",
     "text": [
      "Loading...: 100%|████████████████████████████████████████████████████████████████████| 574/574 [02:25<00:00,  3.94it/s]\n"
     ]
    }
   ],
   "source": [
    "# create a financial world\n",
    "fin_world = spl.FinWorld(mode=None, period='5y', interval='1d', indices=['SPX', 'DAX', 'TDXP'])"
   ]
  },
  {
   "cell_type": "code",
   "execution_count": 3,
   "id": "f57a04ce",
   "metadata": {},
   "outputs": [],
   "source": [
    "# create an simple agent\n",
    "my_agent = agent.SimpleAgent(trade_freq=10, expenses=5)"
   ]
  },
  {
   "cell_type": "code",
   "execution_count": 4,
   "id": "ccedab5a",
   "metadata": {},
   "outputs": [],
   "source": [
    "# get all stock symbols from the financial world\n",
    "all_stocks = fin_world.get_stocks()\n",
    "\n",
    "# set all stock symbols for the agent\n",
    "my_agent.set_stocks(stocks=all_stocks)"
   ]
  },
  {
   "cell_type": "code",
   "execution_count": 5,
   "id": "d2cafab4",
   "metadata": {},
   "outputs": [],
   "source": [
    "# get the maximum time of a traded stocks\n",
    "data_len_max = [0]\n",
    "for stck in all_stocks:\n",
    "    data = fin_world.tickers.tickers[stck].history_data\n",
    "    if len(data.index) > len(data_len_max):\n",
    "        data_max_index = data.index"
   ]
  },
  {
   "cell_type": "code",
   "execution_count": 6,
   "id": "fb3f0f07",
   "metadata": {},
   "outputs": [
    {
     "name": "stdout",
     "output_type": "stream",
     "text": [
      "2018-10-19 9949.999999999998 235.30577107319334 {'NEM.DE': 26, 'VAR1.DE': 39, 'AFX.DE': 14, 'EUZ.DE': 91, 'MTX.DE': 6, 'EVT.DE': 57, 'BC8.DE': 36, 'SRT3.DE': 7, 'SANT.DE': 45, 'SAP.DE': 10}\n",
      "2019-03-15 10680.139322274235 559.4985341109373 {'LIN.DE': 8, 'EUZ.DE': 64, 'ETSY': 14, 'ENPH': 119, 'VAR1.DE': 29, 'KEYS': 12, 'PAYC': 5, 'CMG': 1, 'NOW': 4, 'CDAY': 19}\n",
      "2019-08-08 14142.739487896219 534.7842529170782 {'ENPH': 66, 'VAR1.DE': 22, 'PAYC': 5, 'EUZ.DE': 44, 'MKTX': 3, 'MTCH': 15, 'SEDG': 18, 'COP.DE': 21, 'CDNS': 18, 'CTLT': 22}\n",
      "2020-01-03 16392.966526265376 80.54348553570185 {'VAR1.DE': 16, 'EUZ.DE': 37, 'GNRC': 15, 'HFG.DE': 95, 'TGT': 13, 'QRVO': 14, 'S92.DE': 44, 'DXCM': 30, 'TSLA': 56, 'AMD': 31}\n",
      "2020-05-27 19029.706095901915 52.229794029177356 {'HFG.DE': 56, 'DXCM': 20, 'TSLA': 38, 'MRNA': 53, 'REGN': 3, 'NEM': 33, 'ENPH': 31, 'NVDA': 20, 'SRT3.DE': 5, 'ETSY': 22}\n",
      "2020-10-15 30541.32981541467 25.488345003966515 {'TSLA': 24, 'NVDA': 20, 'ETSY': 20, 'SEDG': 11, 'ENPH': 28, 'PENN': 56, 'GNRC': 14, 'BBWI': 118, 'FDX': 11, 'UPS': 16}\n",
      "2021-03-10 40740.21543080617 -429.93244024780506 {'TSLA': 18, 'ENPH': 26, 'PENN': 37, 'FCX': 124, 'MRNA': 31, 'TPR': 100, 'SIVB': 8, 'IVZ': 169, 'SBNY': 19, 'FANG': 51}\n",
      "2021-08-02 41016.852875010314 149.68040521004968 {'FANG': 54, 'MRO': 344, 'NUE': 39, 'DVN': 171, 'EUZ.DE': 39, 'MRNA': 14, 'FTNT': 75, 'GNRC': 9, 'BBWI': 62, 'IT': 14}\n",
      "2021-12-20 39660.89361127353 71.03967274140345 {'NVDA': 15, 'NEM.DE': 39, 'NA9.DE': 24, 'DVN': 118, 'TSLA': 13, 'AMD': 30, 'ALB': 17, 'ENPH': 21, 'ANET': 30, 'F': 206}\n",
      "2022-05-13 44868.16511447947 -118.82564298562116 {'DVN': 72, 'APA': 115, 'MRO': 176, 'CF': 47, 'HAL': 124, 'OXY': 82, 'MOS': 79, 'CVX': 26, 'CTRA': 152, 'VLO': 35}\n",
      "2022-09-30 37711.43512084563 -32.30881488894619 {'OXY': 62, 'MCK': 11, 'LW': 47, 'ENPH': 16, 'S92.DE': 78, 'CF': 38, 'CAH': 57, 'MPC': 37, 'ALB': 14, 'DVN': 60}\n",
      "2023-01-06 42107.87337021682 479.98364930005846 {'ENPH': 15, 'CAH': 53, 'BIIB': 15, 'SLB': 81, 'GILD': 51, 'ABMD': 11, 'S92.DE': 64, 'GPS': 366, 'ROST': 37, 'MUV2.DE': 13}\n"
     ]
    }
   ],
   "source": [
    "# trade every day\n",
    "it = 0\n",
    "for day in data_max_index:\n",
    "    day = str(day)\n",
    "    day = day.split(' ')[0]\n",
    "    my_agent.trade(fin_world, day, it)\n",
    "    it += 1\n",
    "print(day, my_agent.balance, my_agent.free_cash, my_agent.asset)"
   ]
  },
  {
   "cell_type": "code",
   "execution_count": null,
   "id": "950b2a3f",
   "metadata": {},
   "outputs": [],
   "source": []
  }
 ],
 "metadata": {
  "kernelspec": {
   "display_name": "Python 3 (ipykernel)",
   "language": "python",
   "name": "python3"
  },
  "language_info": {
   "codemirror_mode": {
    "name": "ipython",
    "version": 3
   },
   "file_extension": ".py",
   "mimetype": "text/x-python",
   "name": "python",
   "nbconvert_exporter": "python",
   "pygments_lexer": "ipython3",
   "version": "3.8.10"
  }
 },
 "nbformat": 4,
 "nbformat_minor": 5
}
